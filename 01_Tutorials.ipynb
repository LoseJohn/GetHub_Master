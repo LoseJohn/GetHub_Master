{
 "cells": [
  {
   "cell_type": "code",
   "execution_count": 0,
   "metadata": {
    "application/vnd.databricks.v1+cell": {
     "cellMetadata": {
      "byteLimit": 2048000,
      "rowLimit": 10000
     },
     "inputWidgets": {},
     "nuid": "1503196e-e8b2-457e-b8c4-056f4c540968",
     "showTitle": false,
     "tableResultSettingsMap": {},
     "title": ""
    }
   },
   "outputs": [],
   "source": [
    "from pyspark.sql.functions import *\n",
    "from pyspark.sql.types import *"
   ]
  },
  {
   "cell_type": "code",
   "execution_count": 0,
   "metadata": {
    "application/vnd.databricks.v1+cell": {
     "cellMetadata": {
      "byteLimit": 2048000,
      "rowLimit": 10000
     },
     "inputWidgets": {},
     "nuid": "c99bc4f0-c645-4e73-9abf-edf2e9339179",
     "showTitle": false,
     "tableResultSettingsMap": {},
     "title": ""
    }
   },
   "outputs": [],
   "source": [
    "Df_Sales_No_Header= spark.read\\\n",
    "    .format('csv')\\\n",
    "    .option('inferSchema', 'true')\\\n",
    "    .load('/Volumes/workspace/pyspark_practise/pyspark_practise/sales.csv.txt')\n",
    "Df_Sales_No_Header.display()"
   ]
  },
  {
   "cell_type": "code",
   "execution_count": 0,
   "metadata": {
    "application/vnd.databricks.v1+cell": {
     "cellMetadata": {
      "byteLimit": 2048000,
      "rowLimit": 10000
     },
     "inputWidgets": {},
     "nuid": "4de066b2-fc87-4691-aa6c-912f313597d6",
     "showTitle": false,
     "tableResultSettingsMap": {},
     "title": ""
    }
   },
   "outputs": [],
   "source": [
    "SalesHeaders = [\"Product_id\", \"Customer_id\", \"Order_Date\",\"Location\",\"Source_Order\"]"
   ]
  },
  {
   "cell_type": "code",
   "execution_count": 0,
   "metadata": {
    "application/vnd.databricks.v1+cell": {
     "cellMetadata": {
      "byteLimit": 2048000,
      "rowLimit": 10000
     },
     "inputWidgets": {},
     "nuid": "c555eda5-ac60-4b6f-9df5-0a565ad6db44",
     "showTitle": false,
     "tableResultSettingsMap": {},
     "title": ""
    }
   },
   "outputs": [],
   "source": [
    "Df_Sales_With_Header = Df_Sales_No_Header.toDF(*SalesHeaders)\\\n",
    "    .withColumn('Order_Date', to_date(col('Order_Date'), 'MM/dd/yyyy'))\n",
    "Df_Sales_With_Header.display()"
   ]
  },
  {
   "cell_type": "code",
   "execution_count": 0,
   "metadata": {
    "application/vnd.databricks.v1+cell": {
     "cellMetadata": {
      "byteLimit": 2048000,
      "rowLimit": 10000
     },
     "inputWidgets": {},
     "nuid": "9efa78e1-601d-4887-824c-cfc560728133",
     "showTitle": false,
     "tableResultSettingsMap": {
      "0": {
       "dataGridStateBlob": "{\"version\":1,\"tableState\":{\"columnPinning\":{\"left\":[\"#row_number#\"],\"right\":[]},\"columnSizing\":{},\"columnVisibility\":{}},\"settings\":{\"columns\":{}},\"syncTimestamp\":1753439688569}",
       "filterBlob": null,
       "queryPlanFiltersBlob": null,
       "tableResultIndex": 0
      }
     },
     "title": ""
    }
   },
   "outputs": [],
   "source": [
    "Df_Customer = Df_Sales_With_Header\\\n",
    "    .withColumn('Order_Year', year(col('Order_Date')))\\\n",
    "    .withColumn('Order_Quarter_num', quarter(col('Order_Date')))\\\n",
    "    .withColumn('Order_Quarter', when(col('Order_Quarter_num')==1,'Q1')\n",
    "            .when(col('Order_Quarter_num')==2,'Q2')\\\n",
    "            .when(col('Order_Quarter_num')==3,'Q3')\\\n",
    "            .when(col('Order_Quarter_num')==4,'Q4').otherwise('Unknown'))\\\n",
    "    .withColumn('Order_Month', month(col('Order_Date')))\\\n",
    "    .select('Product_id','Customer_id','Order_Date','Order_Year',\\\n",
    "    'Order_Quarter','Order_Month','Location','Source_Order')\\\n",
    "    .display()"
   ]
  },
  {
   "cell_type": "code",
   "execution_count": 0,
   "metadata": {
    "application/vnd.databricks.v1+cell": {
     "cellMetadata": {
      "byteLimit": 2048000,
      "rowLimit": 10000
     },
     "inputWidgets": {},
     "nuid": "9b2b0a3b-1e9c-470f-ae56-aad987984811",
     "showTitle": false,
     "tableResultSettingsMap": {},
     "title": ""
    }
   },
   "outputs": [],
   "source": [
    "Schema_Menu = StructType([\n",
    "    StructField(\"Product_id\", IntegerType(), True),\n",
    "    StructField(\"Product_Name\", StringType(), True),\n",
    "    StructField(\"Price\", DoubleType(), True)   \n",
    "])"
   ]
  },
  {
   "cell_type": "code",
   "execution_count": 0,
   "metadata": {
    "application/vnd.databricks.v1+cell": {
     "cellMetadata": {
      "byteLimit": 2048000,
      "rowLimit": 10000
     },
     "inputWidgets": {},
     "nuid": "e5aef9ea-2191-4307-aed7-1e8e2d63954b",
     "showTitle": false,
     "tableResultSettingsMap": {},
     "title": ""
    }
   },
   "outputs": [],
   "source": [
    "Df_Product_Data = spark.read\\\n",
    "    .format('csv')\\\n",
    "    .schema(Schema_Menu)\\\n",
    "    .load('/Volumes/workspace/pyspark_practise/pyspark_practise/menu.csv.txt')\n",
    "\n",
    "display(Df_Product_Data)"
   ]
  },
  {
   "cell_type": "code",
   "execution_count": 0,
   "metadata": {
    "application/vnd.databricks.v1+cell": {
     "cellMetadata": {
      "byteLimit": 2048000,
      "rowLimit": 10000
     },
     "inputWidgets": {},
     "nuid": "da137247-ad5f-47e8-bb7b-f1db766152f8",
     "showTitle": false,
     "tableResultSettingsMap": {
      "0": {
       "dataGridStateBlob": "{\"version\":1,\"tableState\":{\"columnPinning\":{\"left\":[\"#row_number#\"],\"right\":[]},\"columnSizing\":{},\"columnVisibility\":{}},\"settings\":{\"columns\":{}},\"syncTimestamp\":1752933900238}",
       "filterBlob": null,
       "queryPlanFiltersBlob": null,
       "tableResultIndex": 0
      }
     },
     "title": ""
    }
   },
   "outputs": [],
   "source": [
    "df_read_from_file= spark.read\\\n",
    "    .format('csv')\\\n",
    "    .option('header', 'true')\\\n",
    "    .option('inferSchema', 'true')\\\n",
    "    .load('/Volumes/workspace/pyspark_practise/pyspark_practise/BigMartSales.csv')\n",
    "display(df_read_from_file)\n",
    "\n",
    "    "
   ]
  },
  {
   "cell_type": "code",
   "execution_count": 0,
   "metadata": {
    "application/vnd.databricks.v1+cell": {
     "cellMetadata": {
      "byteLimit": 2048000,
      "rowLimit": 10000
     },
     "inputWidgets": {},
     "nuid": "cefd9c09-91be-470d-ab66-850c369d92f1",
     "showTitle": false,
     "tableResultSettingsMap": {},
     "title": ""
    }
   },
   "outputs": [],
   "source": [
    "df_read_from_file.write.mode('overwrite').saveAsTable('workspace.pyspark_practise.BigSales')\n"
   ]
  },
  {
   "cell_type": "markdown",
   "metadata": {
    "application/vnd.databricks.v1+cell": {
     "cellMetadata": {
      "byteLimit": 2048000,
      "rowLimit": 10000
     },
     "inputWidgets": {},
     "nuid": "20ffe98b-3692-415e-beea-15ba2958ae34",
     "showTitle": false,
     "tableResultSettingsMap": {},
     "title": ""
    }
   },
   "source": [
    "### Customer Data"
   ]
  },
  {
   "cell_type": "code",
   "execution_count": 0,
   "metadata": {
    "application/vnd.databricks.v1+cell": {
     "cellMetadata": {
      "byteLimit": 2048000,
      "rowLimit": 10000
     },
     "inputWidgets": {},
     "nuid": "ee192e57-1146-4916-b1de-05a75088815c",
     "showTitle": false,
     "tableResultSettingsMap": {},
     "title": ""
    }
   },
   "outputs": [],
   "source": [
    "Df_Customer_Data = Df_Sales_With_Header\\\n",
    "    .withColumn('Order_Year', year(col('Order_Date')))\\\n",
    "    .withColumn('Order_Quarter_num', quarter(col('Order_Date')))\\\n",
    "    .withColumn('Order_Quarter', when(col('Order_Quarter_num')==1,'Q1')\n",
    "            .when(col('Order_Quarter_num')==2,'Q2')\\\n",
    "            .when(col('Order_Quarter_num')==3,'Q3')\\\n",
    "            .when(col('Order_Quarter_num')==4,'Q4').otherwise('Unknown'))\\\n",
    "    .withColumn('Order_Month', month(col('Order_Date')))\\\n",
    "    .select('Product_id','Customer_id','Order_Date','Order_Year',\\\n",
    "    'Order_Quarter','Order_Month','Location','Source_Order')\n",
    "Df_Customer_Data.display()\n",
    "    "
   ]
  },
  {
   "cell_type": "markdown",
   "metadata": {
    "application/vnd.databricks.v1+cell": {
     "cellMetadata": {
      "byteLimit": 2048000,
      "rowLimit": 10000
     },
     "inputWidgets": {},
     "nuid": "fc925950-7c4b-45e1-82e3-a21794cb908b",
     "showTitle": false,
     "tableResultSettingsMap": {},
     "title": ""
    }
   },
   "source": [
    "### Product Data"
   ]
  },
  {
   "cell_type": "code",
   "execution_count": 0,
   "metadata": {
    "application/vnd.databricks.v1+cell": {
     "cellMetadata": {
      "byteLimit": 2048000,
      "rowLimit": 10000
     },
     "inputWidgets": {},
     "nuid": "899cdc68-1dc1-43e9-ad95-f58a24478b67",
     "showTitle": false,
     "tableResultSettingsMap": {},
     "title": ""
    }
   },
   "outputs": [],
   "source": [
    "Df_Product_Data = spark.read\\\n",
    "    .format('csv')\\\n",
    "    .schema(Schema_Menu)\\\n",
    "    .load('/Volumes/workspace/pyspark_practise/pyspark_practise/menu.csv.txt')\n",
    "\n",
    "display(Df_Product_Data)"
   ]
  },
  {
   "cell_type": "markdown",
   "metadata": {
    "application/vnd.databricks.v1+cell": {
     "cellMetadata": {
      "byteLimit": 2048000,
      "rowLimit": 10000
     },
     "inputWidgets": {},
     "nuid": "203c8f38-f990-48a7-bcf8-a33b33767497",
     "showTitle": false,
     "tableResultSettingsMap": {},
     "title": ""
    }
   },
   "source": [
    "### Total Amount Spent Customer on each Food Category"
   ]
  },
  {
   "cell_type": "code",
   "execution_count": 0,
   "metadata": {
    "application/vnd.databricks.v1+cell": {
     "cellMetadata": {
      "byteLimit": 2048000,
      "rowLimit": 10000
     },
     "inputWidgets": {},
     "nuid": "a8dc0324-8f3d-4685-be49-88a2ee0faf92",
     "showTitle": false,
     "tableResultSettingsMap": {},
     "title": ""
    }
   },
   "outputs": [],
   "source": [
    "Total_Amount_Spent_By_Each_Customer_on_Food_Cateogry = \\\n",
    "Df_Customer_Data.join(Df_Product_Data, Df_Customer_Data.Product_id == Df_Product_Data.Product_id, 'inner')\\\n",
    "    .groupBy('Product_Name')\\\n",
    "    .agg(sum(Df_Product_Data.Price).alias('Total_Amount_Spent_Product'))\\\n",
    "    .orderBy(\"Product_Name\")\n",
    "Total_Amount_Spent_By_Each_Customer_on_Food_Cateogry.show()"
   ]
  },
  {
   "cell_type": "markdown",
   "metadata": {
    "application/vnd.databricks.v1+cell": {
     "cellMetadata": {
      "byteLimit": 2048000,
      "rowLimit": 10000
     },
     "inputWidgets": {},
     "nuid": "444b0cef-234c-4690-a952-57ab228a23ee",
     "showTitle": false,
     "tableResultSettingsMap": {},
     "title": ""
    }
   },
   "source": [
    "> ### Total Amount Spent By Each Customer"
   ]
  },
  {
   "cell_type": "code",
   "execution_count": 0,
   "metadata": {
    "application/vnd.databricks.v1+cell": {
     "cellMetadata": {
      "byteLimit": 2048000,
      "rowLimit": 10000
     },
     "inputWidgets": {},
     "nuid": "bdcea19b-c890-43c0-8705-1929fa4fb77f",
     "showTitle": false,
     "tableResultSettingsMap": {},
     "title": ""
    }
   },
   "outputs": [],
   "source": [
    "Total_Amount_Spent_By_Each_Customer = \\\n",
    "Df_Customer_Data.join(Df_Product_Data, Df_Customer_Data.Product_id == Df_Product_Data.Product_id, 'inner')\\\n",
    "    .groupBy('Customer_id')\\\n",
    "    .agg(sum(Df_Product_Data.Price).alias('Total_Amount_Spent_Customer'))\n",
    "Total_Amount_Spent_By_Each_Customer.show()"
   ]
  },
  {
   "cell_type": "markdown",
   "metadata": {
    "application/vnd.databricks.v1+cell": {
     "cellMetadata": {
      "byteLimit": 2048000,
      "rowLimit": 10000
     },
     "inputWidgets": {},
     "nuid": "87c39568-68d1-43e6-bbcb-c9309bb6aa30",
     "showTitle": false,
     "tableResultSettingsMap": {},
     "title": ""
    }
   },
   "source": [
    "### Total Amount of Sales Each Month"
   ]
  },
  {
   "cell_type": "code",
   "execution_count": 0,
   "metadata": {
    "application/vnd.databricks.v1+cell": {
     "cellMetadata": {
      "byteLimit": 2048000,
      "rowLimit": 10000
     },
     "inputWidgets": {},
     "nuid": "fdde6a92-aad0-48d8-a5ea-23bc76ceb3fa",
     "showTitle": false,
     "tableResultSettingsMap": {},
     "title": ""
    }
   },
   "outputs": [],
   "source": [
    "Total_Amount_Spent_Each_Month = \\\n",
    "Df_Customer_Data.join(Df_Product_Data, Df_Customer_Data.Product_id == Df_Product_Data.Product_id, 'inner')\\\n",
    "    .groupBy('Order_Month')\\\n",
    "    .agg(sum(Df_Product_Data.Price).alias('Monthly_Amount_Spent'))\\\n",
    "    .orderBy('Order_Month')\n",
    "Total_Amount_Spent_Each_Month.show()"
   ]
  },
  {
   "cell_type": "markdown",
   "metadata": {
    "application/vnd.databricks.v1+cell": {
     "cellMetadata": {
      "byteLimit": 2048000,
      "rowLimit": 10000
     },
     "inputWidgets": {},
     "nuid": "ae38cf73-5ee4-4236-adbe-ba84262954af",
     "showTitle": false,
     "tableResultSettingsMap": {},
     "title": ""
    }
   },
   "source": [
    "- ### Total Amount of Sales Each Year"
   ]
  },
  {
   "cell_type": "code",
   "execution_count": 0,
   "metadata": {
    "application/vnd.databricks.v1+cell": {
     "cellMetadata": {
      "byteLimit": 2048000,
      "rowLimit": 10000
     },
     "inputWidgets": {},
     "nuid": "efb1f1a6-8873-4571-90d3-e746dc18e085",
     "showTitle": false,
     "tableResultSettingsMap": {},
     "title": ""
    }
   },
   "outputs": [],
   "source": [
    "Total_Amount_Spent_Each_Year = \\\n",
    "Df_Customer_Data.join(Df_Product_Data, Df_Customer_Data.Product_id == Df_Product_Data.Product_id, 'inner')\\\n",
    "    .groupBy('Order_Year')\\\n",
    "    .agg(sum(Df_Product_Data.Price).alias('Yearly_Amount_Spent'))\\\n",
    "    .orderBy('Order_Year')\n",
    "Total_Amount_Spent_Each_Year.show()"
   ]
  },
  {
   "cell_type": "markdown",
   "metadata": {
    "application/vnd.databricks.v1+cell": {
     "cellMetadata": {
      "byteLimit": 2048000,
      "rowLimit": 10000
     },
     "inputWidgets": {},
     "nuid": "c912bdca-81da-4f03-9357-db58c5861789",
     "showTitle": false,
     "tableResultSettingsMap": {},
     "title": ""
    }
   },
   "source": [
    "### Total Item Sales Count"
   ]
  },
  {
   "cell_type": "code",
   "execution_count": 0,
   "metadata": {
    "application/vnd.databricks.v1+cell": {
     "cellMetadata": {
      "byteLimit": 2048000,
      "rowLimit": 10000
     },
     "inputWidgets": {},
     "nuid": "b69c3258-cc51-42b1-bb5b-344ccc8e87d4",
     "showTitle": false,
     "tableResultSettingsMap": {},
     "title": ""
    }
   },
   "outputs": [],
   "source": [
    "Total_Count_Of_Each_Product_Sales = \\\n",
    "Df_Customer_Data.join(Df_Product_Data, Df_Customer_Data.Product_id == Df_Product_Data.Product_id, 'inner')\\\n",
    "    .groupBy(Df_Customer_Data.Product_id,Df_Product_Data.Product_Name)\\\n",
    "    .agg(count(Df_Product_Data.Product_Name).alias('Product_Sales_Count'))\\\n",
    "    .orderBy('Product_Sales_Count',ascending=0)\n",
    "Total_Count_Of_Each_Product_Sales.show()"
   ]
  },
  {
   "cell_type": "code",
   "execution_count": 0,
   "metadata": {
    "application/vnd.databricks.v1+cell": {
     "cellMetadata": {
      "byteLimit": 2048000,
      "rowLimit": 10000
     },
     "inputWidgets": {},
     "nuid": "3872c4d9-87b3-4ca6-b61f-33b9e72e71c7",
     "showTitle": false,
     "tableResultSettingsMap": {},
     "title": ""
    }
   },
   "outputs": [],
   "source": [
    "Top_Product_Sales = \\\n",
    "Df_Customer_Data.join(Df_Product_Data, Df_Customer_Data.Product_id == Df_Product_Data.Product_id, 'inner')\\\n",
    "    .groupBy(Df_Customer_Data.Product_id,Df_Product_Data.Product_Name)\\\n",
    "    .agg(count(Df_Product_Data.Product_Name).alias('Product_Sales_Count'))\\\n",
    "    .drop(Df_Customer_Data.Product_id)\\\n",
    "    .orderBy('Product_Sales_Count',ascending=0)\\\n",
    "    .limit(1)\n",
    "Top_Product_Sales.show()"
   ]
  },
  {
   "cell_type": "markdown",
   "metadata": {
    "application/vnd.databricks.v1+cell": {
     "cellMetadata": {
      "byteLimit": 2048000,
      "rowLimit": 10000
     },
     "inputWidgets": {},
     "nuid": "ccd9c68a-efc6-48d5-b671-4ac9e8f4cb6e",
     "showTitle": false,
     "tableResultSettingsMap": {},
     "title": ""
    }
   },
   "source": [
    " # ### Customer Frequent Visit to Resturant"
   ]
  },
  {
   "cell_type": "code",
   "execution_count": 0,
   "metadata": {
    "application/vnd.databricks.v1+cell": {
     "cellMetadata": {
      "byteLimit": 2048000,
      "rowLimit": 10000
     },
     "inputWidgets": {},
     "nuid": "c25cb553-f712-43b0-84a9-f5be2417fc11",
     "showTitle": false,
     "tableResultSettingsMap": {},
     "title": ""
    }
   },
   "outputs": [],
   "source": [
    "Customer_Frequent_Visits = \\\n",
    "Df_Customer_Data\\\n",
    "    .filter(col('Source_Order')=='Restaurant')\\\n",
    "    .groupBy('Customer_id')\\\n",
    "    .agg(countDistinct('Order_Date').alias('Total_Visits'))\\\n",
    "    .orderBy('Total_Visits') \n",
    "Customer_Frequent_Visits.show()"
   ]
  },
  {
   "cell_type": "markdown",
   "metadata": {
    "application/vnd.databricks.v1+cell": {
     "cellMetadata": {
      "byteLimit": 2048000,
      "rowLimit": 10000
     },
     "inputWidgets": {},
     "nuid": "acb8f19a-298f-4c3a-b075-fa5792358cb1",
     "showTitle": false,
     "tableResultSettingsMap": {},
     "title": ""
    }
   },
   "source": [
    "\n",
    "### Total_Sales_By_Each_Country"
   ]
  },
  {
   "cell_type": "code",
   "execution_count": 0,
   "metadata": {
    "application/vnd.databricks.v1+cell": {
     "cellMetadata": {
      "byteLimit": 2048000,
      "rowLimit": 10000
     },
     "inputWidgets": {},
     "nuid": "fdfaed3d-a013-4fc4-85bc-ee159964830d",
     "showTitle": false,
     "tableResultSettingsMap": {},
     "title": ""
    }
   },
   "outputs": [],
   "source": [
    "Total_Amount_Spent_By_Each_Country = \\\n",
    "Df_Customer_Data.join(Df_Product_Data, Df_Customer_Data.Product_id == Df_Product_Data.Product_id, 'inner')\\\n",
    "    .groupBy('Location')\\\n",
    "    .agg(sum(Df_Product_Data.Price).alias('Total_Amount_Spent_Country'))\\\n",
    "    .orderBy(\"Total_Amount_Spent_Country\",ascending=0)\n",
    "Total_Amount_Spent_By_Each_Country.show()"
   ]
  },
  {
   "cell_type": "code",
   "execution_count": 0,
   "metadata": {
    "application/vnd.databricks.v1+cell": {
     "cellMetadata": {
      "byteLimit": 2048000,
      "rowLimit": 10000
     },
     "inputWidgets": {},
     "nuid": "5103878a-e6d6-4193-ae0f-4eaddda705ad",
     "showTitle": false,
     "tableResultSettingsMap": {},
     "title": ""
    }
   },
   "outputs": [],
   "source": [
    "Total_Amount_Spent_By_Each_Country = \\\n",
    "Df_Customer_Data.join(Df_Product_Data, Df_Customer_Data.Product_id == Df_Product_Data.Product_id, 'inner')\\\n",
    "    .groupBy('Location')\\\n",
    "    .agg(sum(Df_Product_Data.Price).alias('Total_Amount_Spent_Country'))\\\n",
    "    .orderBy(\"Total_Amount_Spent_Country\",ascending=0)\n",
    "Total_Amount_Spent_By_Each_Country.show()"
   ]
  }
 ],
 "metadata": {
  "application/vnd.databricks.v1+notebook": {
   "computePreferences": null,
   "dashboards": [],
   "environmentMetadata": {
    "base_environment": "",
    "environment_version": "2"
   },
   "inputWidgetPreferences": null,
   "language": "python",
   "notebookMetadata": {
    "pythonIndentUnit": 4
   },
   "notebookName": "01_Tutorials",
   "widgets": {}
  },
  "language_info": {
   "name": "python"
  }
 },
 "nbformat": 4,
 "nbformat_minor": 0
}
